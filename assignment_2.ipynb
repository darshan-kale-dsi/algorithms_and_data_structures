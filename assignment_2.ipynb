{
 "cells": [
  {
   "cell_type": "markdown",
   "metadata": {},
   "source": [
    "# Practice Interview\n",
    "\n",
    "## Objective\n",
    "\n",
    "_*The partner assignment aims to provide participants with the opportunity to practice coding in an interview context. You will analyze your partner's Assignment 1. Moreover, code reviews are common practice in a software development team. This assignment should give you a taste of the code review process.*_\n",
    "\n",
    "## Group Size\n",
    "\n",
    "Each group should have 2 people. You will be assigned a partner\n",
    "\n",
    "## Part 1:\n",
    "\n",
    "You and your partner must share each other's Assignment 1 submission."
   ]
  },
  {
   "cell_type": "markdown",
   "metadata": {},
   "source": [
    "\n",
    "## Part 2:\n",
    "\n",
    "Create a Jupyter Notebook, create 6 of the following headings, and complete the following for your partner's assignment 1:\n",
    "\n",
    "-   Paraphrase the problem in your own words.\n"
   ]
  },
  {
   "cell_type": "code",
   "execution_count": null,
   "metadata": {},
   "outputs": [],
   "source": [
    "Find all possible paths from root node to leaf node for the given root of the binary tree.\n",
    "Return the paths as a list of lists, where each sublist is a path from root to the leaf.    "
   ]
  },
  {
   "cell_type": "markdown",
   "metadata": {},
   "source": [
    "\n",
    "-   Create 1 new example that demonstrates you understand the problem. Trace/walkthrough 1 example that your partner made and explain it.\n"
   ]
  },
  {
   "cell_type": "code",
   "execution_count": null,
   "metadata": {},
   "outputs": [],
   "source": [
    "Input : root = [1, 2, 3, 4, 5, 6]\n",
    "Output : [[1,2,4], [1,2,5], [1,3,6]] \n",
    "\n",
    "Partner created = [1, 2, 3, 5]\n",
    "Result : [[1,2,5], [1,3]]\n",
    "\n",
    "Here, 1 is root, children is 2 and leaf node are 3 & 5\n",
    "[1, 2, 5]: Root > Left Subtree ending with leaf node\n",
    "[1, 3]: Root > Right Subtree ending at leaf node"
   ]
  },
  {
   "cell_type": "markdown",
   "metadata": {},
   "source": [
    "\n",
    "-   Copy the solution your partner wrote. \n"
   ]
  },
  {
   "cell_type": "code",
   "execution_count": null,
   "metadata": {},
   "outputs": [],
   "source": [
    "from typing import List\n",
    "\n",
    "# Definition for a binary tree node.\n",
    "class TreeNode(object):\n",
    "    '''Tree Class'''\n",
    "    def __init__(self, val = 0, left = None, right = None):\n",
    "        self.val = val\n",
    "        self.left = left\n",
    "        self.right = right\n",
    "\n",
    "# Take input (in list form) and convert it to a tree\n",
    "def list_to_tree(lst):\n",
    "    if not lst or lst[0] is None:\n",
    "        return None\n",
    "\n",
    "    nodes = [TreeNode(val) if val is not None else None for val in lst]\n",
    "    kids = nodes[::-1]\n",
    "\n",
    "    root = kids.pop()\n",
    "\n",
    "    for node in nodes:\n",
    "        if node:\n",
    "            if kids:\n",
    "                node.left = kids.pop()\n",
    "            if kids:\n",
    "                node.right = kids.pop()\n",
    "\n",
    "    return root\n",
    "\n",
    "# Helper Function: Depth-First Search (DFS)\n",
    "# Looking to build paths from root to each leaf\n",
    "def dfs(node, path, result):\n",
    "   if not node:\n",
    "      return\n",
    "   path.append(node.val)\n",
    "\n",
    "   if not node.left and not node.right:\n",
    "      result.append(path[:])\n",
    "   dfs(node.left, path, result)\n",
    "   dfs(node.right, path, result)\n",
    "   path.pop()\n",
    "\n",
    "# Determine the path given the root\n",
    "def bt_path(lst):\n",
    "  root = list_to_tree(lst)\n",
    "  # Basecase: input is not a root\n",
    "  if not root:\n",
    "    return []\n",
    "  \n",
    "  result = []\n",
    "  dfs(root,[], result)\n",
    "  return result"
   ]
  },
  {
   "cell_type": "markdown",
   "metadata": {},
   "source": [
    "\n",
    "-   Explain why their solution works in your own words.\n"
   ]
  },
  {
   "cell_type": "code",
   "execution_count": null,
   "metadata": {},
   "outputs": [],
   "source": [
    "\n",
    "The list_to_tree function conerts list to a binary tree by creating nodes and assigning children.\n",
    "The dfs function ensures all possible paths from the root to each leaf node are considered. It records all paths without missing or duplicating any efforts.\n",
    "All paths from root to a leaf is collected and stored in the result list, making sure that the output meets the requirements.\n",
    "These together effectively solve the problem of finding all root-to-leaf paths in a binary tree."
   ]
  },
  {
   "cell_type": "markdown",
   "metadata": {},
   "source": [
    "\n",
    "-   Explain the problem’s time and space complexity in your own words.\n"
   ]
  },
  {
   "cell_type": "markdown",
   "metadata": {},
   "source": [
    "Time Complexity: O(n)\n",
    "Space Complexity: O(n)"
   ]
  },
  {
   "cell_type": "markdown",
   "metadata": {},
   "source": [
    "\n",
    "-   Critique your partner's solution, including explanation, and if there is anything that should be adjusted.\n"
   ]
  },
  {
   "cell_type": "code",
   "execution_count": null,
   "metadata": {},
   "outputs": [],
   "source": [
    "The explanation correctly describes the DFS process but could benefit from a more detailed explanation of backtracking. We can improve this by elaborating on how the path is reverted after visiting each node's children and why this is crucial for exploring all paths.\n"
   ]
  },
  {
   "cell_type": "markdown",
   "metadata": {},
   "source": [
    "\n",
    "## Part 3:\n",
    "\n",
    "Please write a 200 word reflection documenting your process from assignment 1, and your presentation and review experience with your partner at the bottom of the Jupyter Notebook under a new heading \"Reflection.\" Again, export this Notebook as pdf.\n"
   ]
  },
  {
   "cell_type": "markdown",
   "metadata": {},
   "source": [
    "### Reflection"
   ]
  },
  {
   "cell_type": "code",
   "execution_count": null,
   "metadata": {},
   "outputs": [],
   "source": [
    "My process : From assignment 1, the goal was to detect duplicated in a binary tree and return the first duplicate value found during BFS traversal. \n",
    "This starts with understanding BFS and exploring nodes levels by level. \n",
    "I created a set to keep track of visited values and a deque for BFS traversal. \n",
    "Implementing and testing helped understanding the importance of data structure to optimize time and space complexity. \n",
    "The output was accurate and correctly identified duplicates by traversing level by level and returning the closest duplicate to the root.\n",
    "\n",
    "\n",
    "Partner's review : The problem assigned was to find all root to leaf paths in a binary tree. \n",
    "It started with converting a list to a binary tree and then using DFS to explore all possible paths.\n",
    "The DFS implementation helps to understand the importance of handling both recursion depth and backtracking effectively, which are critical for traversing tree structures without missing any paths.\n",
    "The solution ensured all edge cases were handled correctly. \n",
    "\n",
    "The reflection from reviewing and presenting the solution helped me understand tree traversal algorithms and the importance of clear, efficient code to handle complex data structures.\n"
   ]
  },
  {
   "cell_type": "markdown",
   "metadata": {},
   "source": [
    "\n",
    "## Evaluation Criteria\n",
    "\n",
    "We are looking for the similar points as Assignment 1\n",
    "\n",
    "-   Problem is accurately stated\n",
    "\n",
    "-   New example is correct and easily understandable\n",
    "\n",
    "-   Correctness, time, and space complexity of the coding solution\n",
    "\n",
    "-   Clarity in explaining why the solution works, its time and space complexity\n",
    "\n",
    "-   Quality of critique of your partner's assignment, if necessary\n"
   ]
  },
  {
   "cell_type": "markdown",
   "metadata": {},
   "source": [
    "## Submission Information\n",
    "\n",
    "🚨 **Please review our [Assignment Submission Guide](https://github.com/UofT-DSI/onboarding/blob/main/onboarding_documents/submissions.md)** 🚨 for detailed instructions on how to format, branch, and submit your work. Following these guidelines is crucial for your submissions to be evaluated correctly.\n",
    "\n",
    "### Submission Parameters:\n",
    "* Submission Due Date: `HH:MM AM/PM - DD/MM/YYYY`\n",
    "* The branch name for your repo should be: `assignment-2`\n",
    "* What to submit for this assignment:\n",
    "    * This Jupyter Notebook (assignment_2.ipynb) should be populated and should be the only change in your pull request.\n",
    "* What the pull request link should look like for this assignment: `https://github.com/<your_github_username>/algorithms_and_data_structures/pull/<pr_id>`\n",
    "    * Open a private window in your browser. Copy and paste the link to your pull request into the address bar. Make sure you can see your pull request properly. This helps the technical facilitator and learning support staff review your submission easily.\n",
    "\n",
    "Checklist:\n",
    "- [ ] Created a branch with the correct naming convention.\n",
    "- [ ] Ensured that the repository is public.\n",
    "- [ ] Reviewed the PR description guidelines and adhered to them.\n",
    "- [ ] Verify that the link is accessible in a private browser window.\n",
    "\n",
    "If you encounter any difficulties or have questions, please don't hesitate to reach out to our team via our Slack at `#cohort-3-help`. Our Technical Facilitators and Learning Support staff are here to help you navigate any challenges.\n"
   ]
  }
 ],
 "metadata": {
  "language_info": {
   "name": "python"
  }
 },
 "nbformat": 4,
 "nbformat_minor": 2
}
